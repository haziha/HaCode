{
 "cells": [
  {
   "cell_type": "code",
   "execution_count": 12,
   "metadata": {
    "collapsed": true,
    "pycharm": {
     "name": "#%%\n"
    }
   },
   "outputs": [
    {
     "data": {
      "text/plain": "'\\n两遍扫描法 获取连通域\\n'"
     },
     "execution_count": 12,
     "metadata": {},
     "output_type": "execute_result"
    }
   ],
   "source": [
    "import numpy as np\n",
    "\n",
    "\"\"\"\n",
    "两遍扫描法 获取连通域\n",
    "\"\"\""
   ]
  },
  {
   "cell_type": "code",
   "execution_count": 13,
   "outputs": [],
   "source": [
    "demo_list = [\n",
    "    0, 0, 1, 0, 0, 1, 0,\n",
    "    1, 1, 1, 0, 1, 1, 1,\n",
    "    0, 0, 1, 0, 0, 1, 0,\n",
    "    0, 1, 1, 0, 1, 1, 0,\n",
    "]\n",
    "_id = 1"
   ],
   "metadata": {
    "collapsed": false,
    "pycharm": {
     "name": "#%%\n"
    }
   }
  },
  {
   "cell_type": "code",
   "execution_count": 14,
   "outputs": [
    {
     "name": "stdout",
     "output_type": "stream",
     "text": [
      "(4, 7)\n"
     ]
    },
    {
     "data": {
      "text/plain": "array([[0, 0, 1, 0, 0, 1, 0],\n       [1, 1, 1, 0, 1, 1, 1],\n       [0, 0, 1, 0, 0, 1, 0],\n       [0, 1, 1, 0, 1, 1, 0]])"
     },
     "execution_count": 14,
     "metadata": {},
     "output_type": "execute_result"
    }
   ],
   "source": [
    "array = np.array(demo_list).reshape(4, 7)\n",
    "array_shape = array.shape\n",
    "print(array_shape)\n",
    "array"
   ],
   "metadata": {
    "collapsed": false,
    "pycharm": {
     "name": "#%%\n"
    }
   }
  },
  {
   "cell_type": "code",
   "execution_count": 15,
   "outputs": [
    {
     "data": {
      "text/plain": "array([[0, 0, 0, 0, 0, 0, 0],\n       [0, 0, 0, 0, 0, 0, 0],\n       [0, 0, 0, 0, 0, 0, 0],\n       [0, 0, 0, 0, 0, 0, 0]])"
     },
     "execution_count": 15,
     "metadata": {},
     "output_type": "execute_result"
    }
   ],
   "source": [
    "# 创建一个同行同列的array, 用于存放 id\n",
    "id_array = np.zeros(array_shape, dtype=int)\n",
    "id_array"
   ],
   "metadata": {
    "collapsed": false,
    "pycharm": {
     "name": "#%%\n"
    }
   }
  },
  {
   "cell_type": "code",
   "execution_count": 16,
   "outputs": [],
   "source": [
    "# 创建一个 dict 用于存放有相邻关系的id\n",
    "id_adjacent = {}"
   ],
   "metadata": {
    "collapsed": false,
    "pycharm": {
     "name": "#%%\n"
    }
   }
  },
  {
   "cell_type": "code",
   "execution_count": 17,
   "outputs": [],
   "source": [
    "# 第一次遍历\n",
    "for i in range(array_shape[0]):\n",
    "    for j in range(array_shape[1]):\n",
    "        # 注意临界条件就行\n",
    "        # 第一行只看左边是否相同\n",
    "        # 第一列只看上面是否相同\n",
    "        # 第一行第一列直接标记\n",
    "        if i == 0 and j == 0:  # 第一行第一列\n",
    "            id_array[i][j] = _id\n",
    "            id_adjacent[_id] = set()  # 新建集合\n",
    "            _id += 1\n",
    "        elif i == 0:  # 第一行非第一个, 只往左边找\n",
    "            if array[i][j] == array[i][j-1]:  # 与左边相同, 则连通\n",
    "                id_array[i][j] = id_array[i][j-1]\n",
    "            else:  # 不相同\n",
    "                id_array[i][j] = _id\n",
    "                id_adjacent[_id] = set()\n",
    "                _id += 1\n",
    "        elif j == 0:  # 第一列非第一个, 只往上面找\n",
    "            if array[i][j] == array[i-1][j]:  # 与上面相同, 则连通\n",
    "                id_array[i][j] = id_array[i-1][j]\n",
    "            else:\n",
    "                id_array[i][j] = _id\n",
    "                id_adjacent[_id] = set()\n",
    "                _id += 1\n",
    "        else:  # 先往上面找, 再往左边找\n",
    "            if array[i][j] == array[i-1][j] and array[i][j] != array[i][j-1]:  # 只与上面相同\n",
    "                id_array[i][j] = id_array[i-1][j]\n",
    "            elif array[i][j] == array[i][j-1] and array[i][j] != array[i-1][j]:  # 只与左边相同\n",
    "                id_array[i][j] = id_array[i][j-1]\n",
    "            elif array[i][j] != array[i][j-1] and array[i][j] != array[i-1][j]:  # 上面、左边都不相同\n",
    "                id_array[i][j] = _id\n",
    "                id_adjacent[_id] = set()\n",
    "                _id += 1\n",
    "            else:  # 上面、左边都相同\n",
    "                id_array[i][j] = id_array[i-1][j]  # 优先用上面的id\n",
    "                if id_array[i][j-1] != id_array[i-1][j]:\n",
    "                    id_adjacent[id_array[i-1][j]].add(id_array[i][j-1])"
   ],
   "metadata": {
    "collapsed": false,
    "pycharm": {
     "name": "#%%\n"
    }
   }
  },
  {
   "cell_type": "code",
   "execution_count": 18,
   "outputs": [
    {
     "data": {
      "text/plain": "array([[0, 0, 1, 0, 0, 1, 0],\n       [1, 1, 1, 0, 1, 1, 1],\n       [0, 0, 1, 0, 0, 1, 0],\n       [0, 1, 1, 0, 1, 1, 0]])"
     },
     "execution_count": 18,
     "metadata": {},
     "output_type": "execute_result"
    }
   ],
   "source": [
    "array"
   ],
   "metadata": {
    "collapsed": false,
    "pycharm": {
     "name": "#%%\n"
    }
   }
  },
  {
   "cell_type": "code",
   "execution_count": 19,
   "outputs": [
    {
     "data": {
      "text/plain": "array([[ 1,  1,  2,  3,  3,  4,  5],\n       [ 6,  6,  2,  3,  7,  4,  4],\n       [ 8,  8,  2,  3,  3,  4,  9],\n       [ 8, 10,  2,  3, 11,  4,  9]])"
     },
     "execution_count": 19,
     "metadata": {},
     "output_type": "execute_result"
    }
   ],
   "source": [
    "id_array"
   ],
   "metadata": {
    "collapsed": false,
    "pycharm": {
     "name": "#%%\n"
    }
   }
  },
  {
   "cell_type": "code",
   "execution_count": 20,
   "outputs": [
    {
     "data": {
      "text/plain": "{1: set(),\n 2: {6, 10},\n 3: set(),\n 4: {7, 11},\n 5: set(),\n 6: set(),\n 7: set(),\n 8: set(),\n 9: set(),\n 10: set(),\n 11: set()}"
     },
     "execution_count": 20,
     "metadata": {},
     "output_type": "execute_result"
    }
   ],
   "source": [
    "id_adjacent"
   ],
   "metadata": {
    "collapsed": false,
    "pycharm": {
     "name": "#%%\n"
    }
   }
  },
  {
   "cell_type": "code",
   "execution_count": 21,
   "outputs": [
    {
     "data": {
      "text/plain": "{1: set(), 2: {6, 10}, 3: set(), 4: {7, 11}, 5: set(), 8: set(), 9: set()}"
     },
     "execution_count": 21,
     "metadata": {},
     "output_type": "execute_result"
    }
   ],
   "source": [
    "# 处理 id dict\n",
    "for i in range(_id-1, 0, -1):  # 区间: (0, _id-1], 不过是倒序的\n",
    "    merge = False\n",
    "    for j in range(i-1, 0, -1):  # 区间: (0, i-1], 倒序\n",
    "        if i in id_adjacent[j] or not id_adjacent[j].isdisjoint(id_adjacent[i]):\n",
    "            id_adjacent[j].update(id_adjacent[i])  # 合并集合\n",
    "            merge = True\n",
    "    if merge:\n",
    "        del id_adjacent[i]  # 有合并情况则删除当前集合\n",
    "id_adjacent"
   ],
   "metadata": {
    "collapsed": false,
    "pycharm": {
     "name": "#%%\n"
    }
   }
  },
  {
   "cell_type": "code",
   "execution_count": 22,
   "outputs": [
    {
     "data": {
      "text/plain": "array([[1, 1, 2, 3, 3, 4, 5],\n       [2, 2, 2, 3, 4, 4, 4],\n       [8, 8, 2, 3, 3, 4, 9],\n       [8, 2, 2, 3, 4, 4, 9]])"
     },
     "execution_count": 22,
     "metadata": {},
     "output_type": "execute_result"
    }
   ],
   "source": [
    "# 第二遍扫描\n",
    "for i in range(array_shape[0]):\n",
    "    for j in range(array_shape[1]):\n",
    "        if id_array[i][j] in id_adjacent:\n",
    "            continue\n",
    "        for k in id_adjacent:\n",
    "            if id_array[i][j] in id_adjacent[k]:\n",
    "                id_array[i][j] = k\n",
    "                break"
   ],
   "metadata": {
    "collapsed": false,
    "pycharm": {
     "name": "#%%\n"
    }
   }
  },
  {
   "cell_type": "code",
   "execution_count": 24,
   "outputs": [
    {
     "data": {
      "text/plain": "array([[1, 1, 2, 3, 3, 4, 5],\n       [2, 2, 2, 3, 4, 4, 4],\n       [8, 8, 2, 3, 3, 4, 9],\n       [8, 2, 2, 3, 4, 4, 9]])"
     },
     "execution_count": 24,
     "metadata": {},
     "output_type": "execute_result"
    }
   ],
   "source": [
    "# 现在 id_array 里面就保存了连通信息, 相同id都是连通\n",
    "id_array"
   ],
   "metadata": {
    "collapsed": false,
    "pycharm": {
     "name": "#%%\n"
    }
   }
  },
  {
   "cell_type": "code",
   "execution_count": null,
   "outputs": [],
   "source": [],
   "metadata": {
    "collapsed": false,
    "pycharm": {
     "name": "#%%\n"
    }
   }
  }
 ],
 "metadata": {
  "kernelspec": {
   "display_name": "Python 3",
   "language": "python",
   "name": "python3"
  },
  "language_info": {
   "codemirror_mode": {
    "name": "ipython",
    "version": 2
   },
   "file_extension": ".py",
   "mimetype": "text/x-python",
   "name": "python",
   "nbconvert_exporter": "python",
   "pygments_lexer": "ipython2",
   "version": "2.7.6"
  }
 },
 "nbformat": 4,
 "nbformat_minor": 0
}